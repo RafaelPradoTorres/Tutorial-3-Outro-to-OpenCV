{
 "cells": [
  {
   "cell_type": "markdown",
   "metadata": {},
   "source": [
    "# Counting Objects in OpenCV.\n",
    "Well done traveller, welcome back to the bus ride. This episode involves counting simple objects in a picture. We have an image containing some shapes, and in this lesson, we would identify, locate and  count the number of shapes in the image. During this process, we would 1) Learn how to convert images to grayscale 2) detecting Edges 3) Thresholding the grayscale image 4) Finding, counting and drawing contours 5) performing erosion and dilation 6) masking an image.\n",
    "\n",
    "Sit tight, put on your seat belt, the road is quite bumpy!!.\n",
    "\n",
    "Image credit: Image by 200 Degrees from Pixabay "
   ]
  },
  {
   "cell_type": "markdown",
   "metadata": {},
   "source": [
    "### Pipeline : load image >> gray scale >> Threshold >> find contours >> grab contours >> draw contours"
   ]
  },
  {
   "cell_type": "markdown",
   "metadata": {},
   "source": [
    "##### Import the required packages."
   ]
  },
  {
   "cell_type": "code",
   "execution_count": null,
   "metadata": {},
   "outputs": [],
   "source": [
    "# First we get the necessary packages.\n",
    "import cv2\n",
    "import imutils"
   ]
  },
  {
   "cell_type": "markdown",
   "metadata": {},
   "source": [
    "##### Load in the image.\n",
    "we load in the image, the name of the image is \"shapes.png\", then we display it."
   ]
  },
  {
   "cell_type": "code",
   "execution_count": 13,
   "metadata": {},
   "outputs": [
    {
     "data": {
      "text/plain": [
       "-1"
      ]
     },
     "execution_count": 13,
     "metadata": {},
     "output_type": "execute_result"
    }
   ],
   "source": [
    "# load the input image via opencv's imread\n",
    "image = cv2.imread(\"shapes.png\")\n",
    "cv2.imshow(\"Shapes_image\", image)\n",
    "cv2.waitKey(0)"
   ]
  },
  {
   "cell_type": "markdown",
   "metadata": {},
   "source": [
    "###### Grayscale The Image.\n",
    "Here, we grayscale the image, to do that is quite simple, we use cv2.cvtcolor() to convert from one color scale to another. In this case, we use it to convert to a grayscale type."
   ]
  },
  {
   "cell_type": "code",
   "execution_count": 29,
   "metadata": {},
   "outputs": [
    {
     "data": {
      "text/plain": [
       "-1"
      ]
     },
     "execution_count": 29,
     "metadata": {},
     "output_type": "execute_result"
    }
   ],
   "source": [
    "# convert  the image to a grayscale type.\n",
    "gray_scaled = cv2.cvtColor(image, cv2.COLOR_BGR2GRAY)\n",
    "cv2.imshow(\"Gray-scale-rep\", gray_scaled)\n",
    "cv2.waitKey(0)"
   ]
  },
  {
   "cell_type": "markdown",
   "metadata": {},
   "source": [
    "###### Edge Detection.\n",
    "Edge detection is very useful for finding the boundaries of an object in any image.The canny algorithm is very much suitable for this, we'll use the cv2.canny(). input image is the gray_scale image, then the minimum and maximum threshold. Different values for minimum and maximum thresholds will return different edge maps."
   ]
  },
  {
   "cell_type": "code",
   "execution_count": 30,
   "metadata": {},
   "outputs": [
    {
     "data": {
      "text/plain": [
       "-1"
      ]
     },
     "execution_count": 30,
     "metadata": {},
     "output_type": "execute_result"
    }
   ],
   "source": [
    "#Applying Edge detection to find outlines of objects.\n",
    "edged = cv2.Canny(gray_scaled, 30,150)\n",
    "cv2.imshow(\"Edge Detection\", edged)\n",
    "cv2.waitKey(0)"
   ]
  },
  {
   "cell_type": "markdown",
   "metadata": {},
   "source": [
    "##### Thresholding The Image.\n",
    "Thresholding an image assists greatly in image processing, it removes lighter or darker regions and contours of the gray-scaled images. This helps greatly to segment the image."
   ]
  },
  {
   "cell_type": "code",
   "execution_count": 25,
   "metadata": {},
   "outputs": [
    {
     "data": {
      "text/plain": [
       "-1"
      ]
     },
     "execution_count": 25,
     "metadata": {},
     "output_type": "execute_result"
    }
   ],
   "source": [
    "#Thresholding the image.\n",
    "# i set all pixels greater than 225 to 225\n",
    "# i also set pixels less than 225 to 225\n",
    "thresh = cv2.threshold(gray_scaled, 225,225, cv2.THRESH_BINARY_INV)[1]\n",
    "cv2.imshow(\"Thresholding Applied\", thresh)\n",
    "cv2.waitKey(0)"
   ]
  },
  {
   "cell_type": "markdown",
   "metadata": {},
   "source": [
    "######  Drawing Contours on an image.\n",
    "Having well distinguished the image foreground and background, we can now proceed to finding the Contours in the image. This proves to us how important thresholding an image is. To find the contours, we use the cv2.findcontours() to detect the contours, where the input image is a copy of the threshold image. After detection, we use the imutils library to grab the contours."
   ]
  },
  {
   "cell_type": "code",
   "execution_count": 31,
   "metadata": {},
   "outputs": [],
   "source": [
    "#detecting and drawing contours.\n",
    "# first we find the contours in the thresholded image.\n",
    "contours = cv2.findContours(thresh.copy(), cv2.RETR_EXTERNAL, cv2.CHAIN_APPROX_SIMPLE)\n",
    "contours = imutils.grab_contours(contours)"
   ]
  },
  {
   "cell_type": "markdown",
   "metadata": {},
   "source": [
    "now, we have grabbed the contours, we the loop over each contour found, and then draw it on the image. its just like tracing. The cv2 library has a drawcontours function which takes in the image, takes in the contours as grabbed by imutils, the negative value as used there forces it to draw all the contours, it takes in the color as well, here i used purple,Then of course and lastly is the thickness."
   ]
  },
  {
   "cell_type": "code",
   "execution_count": 32,
   "metadata": {},
   "outputs": [],
   "source": [
    "output = image.copy()\n",
    "for contour in contours:# loop over each contour found\n",
    "    cv2.drawContours(output, [contour], -1,(240,0,159),3) # outline and display them, one by one.\n",
    "    cv2.imshow(\"Contours\", output)\n",
    "    cv2.waitKey(0)"
   ]
  },
  {
   "cell_type": "markdown",
   "metadata": {},
   "source": [
    "######  Count and Write.\n",
    "Here, we count the number of contours found, which of course corresponds to the number of images. so the idea here is count the images and display the number of counts as text. Firstly we create the text to be displayed, Secondly, we put the text on the image.... A,B,C right?..."
   ]
  },
  {
   "cell_type": "code",
   "execution_count": 8,
   "metadata": {},
   "outputs": [
    {
     "data": {
      "text/plain": [
       "-1"
      ]
     },
     "execution_count": 8,
     "metadata": {},
     "output_type": "execute_result"
    }
   ],
   "source": [
    "# count the number of objects found in the image\n",
    "# write count as text too.\n",
    "text = \"There are {} objects here.\".format(len(contours))\n",
    "cv2.putText(output, text, (10,25), cv2.FONT_HERSHEY_SIMPLEX, 0.7,(240, 0, 159), 2)\n",
    "cv2.imshow(\"Description\", output)\n",
    "cv2.waitKey(0)"
   ]
  },
  {
   "cell_type": "markdown",
   "metadata": {},
   "source": [
    "###  Erosions and Dilations. (parking in the bus park).\n",
    "\n",
    "###### Erosions\n",
    "\n",
    "Thresholding an image has some side effects of addition of noise. Erosions are used to futher reduce noise in the thresholded image, to reduce the size of foregrounds in an image, we erode the image with some number of iterations.This is easily done using the cv2.erode()"
   ]
  },
  {
   "cell_type": "code",
   "execution_count": 9,
   "metadata": {},
   "outputs": [
    {
     "data": {
      "text/plain": [
       "-1"
      ]
     },
     "execution_count": 9,
     "metadata": {},
     "output_type": "execute_result"
    }
   ],
   "source": [
    "# reduce noise futher in image using erosion.\n",
    "mask = thresh.copy()\n",
    "mask = cv2.erode(mask, None, iterations =5)\n",
    "cv2.imshow(\"Eroded\", mask)\n",
    "cv2.waitKey(0)"
   ]
  },
  {
   "cell_type": "markdown",
   "metadata": {},
   "source": [
    "######  Dilations.\n",
    "very similarly, we can foreground image in the mask using the cv2.dilate()."
   ]
  },
  {
   "cell_type": "code",
   "execution_count": 10,
   "metadata": {},
   "outputs": [
    {
     "data": {
      "text/plain": [
       "-1"
      ]
     },
     "execution_count": 10,
     "metadata": {},
     "output_type": "execute_result"
    }
   ],
   "source": [
    "# reduce noise futher using Dilation.\n",
    "mask = thresh.copy()\n",
    "mask = cv2.dilate(mask, None, iterations = 5)\n",
    "cv2.imshow(\"Dilated\", mask)\n",
    "cv2.waitKey(0)"
   ]
  },
  {
   "cell_type": "markdown",
   "metadata": {},
   "source": [
    "##### Masking and Bitwise Operations.\n",
    "As the name implies, Masks allow us to hide regions of an image which we are uninterested in Since we do not care about them."
   ]
  },
  {
   "cell_type": "code",
   "execution_count": 11,
   "metadata": {},
   "outputs": [
    {
     "data": {
      "text/plain": [
       "-1"
      ]
     },
     "execution_count": 11,
     "metadata": {},
     "output_type": "execute_result"
    }
   ],
   "source": [
    "#Masking and Bitwise operations.\n",
    "mask = thresh.copy()\n",
    "output = cv2.bitwise_and(image, image, mask = mask)\n",
    "cv2.imshow(\"FINAL OUTPUT\", output)\n",
    "cv2.waitKey(0)"
   ]
  },
  {
   "cell_type": "markdown",
   "metadata": {},
   "source": [
    "## Bus Stop Reached\n",
    "##### You've arrived at your destination. Welcome to OpenCV kings island.\n",
    "kindly step down from the vehicle and explore."
   ]
  },
  {
   "cell_type": "code",
   "execution_count": null,
   "metadata": {},
   "outputs": [],
   "source": []
  }
 ],
 "metadata": {
  "kernelspec": {
   "display_name": "Python 3",
   "language": "python",
   "name": "python3"
  },
  "language_info": {
   "codemirror_mode": {
    "name": "ipython",
    "version": 3
   },
   "file_extension": ".py",
   "mimetype": "text/x-python",
   "name": "python",
   "nbconvert_exporter": "python",
   "pygments_lexer": "ipython3",
   "version": "3.7.4"
  }
 },
 "nbformat": 4,
 "nbformat_minor": 2
}
